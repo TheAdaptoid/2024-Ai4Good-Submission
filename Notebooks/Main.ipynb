{
 "cells": [
  {
   "cell_type": "code",
   "execution_count": 186,
   "metadata": {},
   "outputs": [
    {
     "name": "stdout",
     "output_type": "stream",
     "text": [
      "Requirement already satisfied: ipykernel in i:\\coding\\2024-ai4good-submission\\.venv\\lib\\site-packages (6.29.5)\n",
      "Requirement already satisfied: matplotlib in i:\\coding\\2024-ai4good-submission\\.venv\\lib\\site-packages (3.9.2)\n",
      "Requirement already satisfied: scikit-learn in i:\\coding\\2024-ai4good-submission\\.venv\\lib\\site-packages (1.5.2)\n",
      "Requirement already satisfied: pandas in i:\\coding\\2024-ai4good-submission\\.venv\\lib\\site-packages (2.2.3)\n",
      "Requirement already satisfied: numpy in i:\\coding\\2024-ai4good-submission\\.venv\\lib\\site-packages (2.1.1)\n",
      "Requirement already satisfied: seaborn in i:\\coding\\2024-ai4good-submission\\.venv\\lib\\site-packages (0.13.2)\n",
      "Requirement already satisfied: comm>=0.1.1 in i:\\coding\\2024-ai4good-submission\\.venv\\lib\\site-packages (from ipykernel) (0.2.2)\n",
      "Requirement already satisfied: debugpy>=1.6.5 in i:\\coding\\2024-ai4good-submission\\.venv\\lib\\site-packages (from ipykernel) (1.8.6)\n",
      "Requirement already satisfied: ipython>=7.23.1 in i:\\coding\\2024-ai4good-submission\\.venv\\lib\\site-packages (from ipykernel) (8.27.0)\n",
      "Requirement already satisfied: jupyter-client>=6.1.12 in i:\\coding\\2024-ai4good-submission\\.venv\\lib\\site-packages (from ipykernel) (8.6.3)\n",
      "Requirement already satisfied: jupyter-core!=5.0.*,>=4.12 in i:\\coding\\2024-ai4good-submission\\.venv\\lib\\site-packages (from ipykernel) (5.7.2)\n",
      "Requirement already satisfied: matplotlib-inline>=0.1 in i:\\coding\\2024-ai4good-submission\\.venv\\lib\\site-packages (from ipykernel) (0.1.7)\n",
      "Requirement already satisfied: nest-asyncio in i:\\coding\\2024-ai4good-submission\\.venv\\lib\\site-packages (from ipykernel) (1.6.0)\n",
      "Requirement already satisfied: packaging in i:\\coding\\2024-ai4good-submission\\.venv\\lib\\site-packages (from ipykernel) (24.1)\n",
      "Requirement already satisfied: psutil in i:\\coding\\2024-ai4good-submission\\.venv\\lib\\site-packages (from ipykernel) (6.0.0)\n",
      "Requirement already satisfied: pyzmq>=24 in i:\\coding\\2024-ai4good-submission\\.venv\\lib\\site-packages (from ipykernel) (26.2.0)\n",
      "Requirement already satisfied: tornado>=6.1 in i:\\coding\\2024-ai4good-submission\\.venv\\lib\\site-packages (from ipykernel) (6.4.1)\n",
      "Requirement already satisfied: traitlets>=5.4.0 in i:\\coding\\2024-ai4good-submission\\.venv\\lib\\site-packages (from ipykernel) (5.14.3)\n",
      "Requirement already satisfied: contourpy>=1.0.1 in i:\\coding\\2024-ai4good-submission\\.venv\\lib\\site-packages (from matplotlib) (1.3.0)\n",
      "Requirement already satisfied: cycler>=0.10 in i:\\coding\\2024-ai4good-submission\\.venv\\lib\\site-packages (from matplotlib) (0.12.1)\n",
      "Requirement already satisfied: fonttools>=4.22.0 in i:\\coding\\2024-ai4good-submission\\.venv\\lib\\site-packages (from matplotlib) (4.54.1)\n",
      "Requirement already satisfied: kiwisolver>=1.3.1 in i:\\coding\\2024-ai4good-submission\\.venv\\lib\\site-packages (from matplotlib) (1.4.7)\n",
      "Requirement already satisfied: pillow>=8 in i:\\coding\\2024-ai4good-submission\\.venv\\lib\\site-packages (from matplotlib) (10.4.0)\n",
      "Requirement already satisfied: pyparsing>=2.3.1 in i:\\coding\\2024-ai4good-submission\\.venv\\lib\\site-packages (from matplotlib) (3.1.4)\n",
      "Requirement already satisfied: python-dateutil>=2.7 in i:\\coding\\2024-ai4good-submission\\.venv\\lib\\site-packages (from matplotlib) (2.9.0.post0)\n",
      "Requirement already satisfied: scipy>=1.6.0 in i:\\coding\\2024-ai4good-submission\\.venv\\lib\\site-packages (from scikit-learn) (1.14.1)\n",
      "Requirement already satisfied: joblib>=1.2.0 in i:\\coding\\2024-ai4good-submission\\.venv\\lib\\site-packages (from scikit-learn) (1.4.2)\n",
      "Requirement already satisfied: threadpoolctl>=3.1.0 in i:\\coding\\2024-ai4good-submission\\.venv\\lib\\site-packages (from scikit-learn) (3.5.0)\n",
      "Requirement already satisfied: pytz>=2020.1 in i:\\coding\\2024-ai4good-submission\\.venv\\lib\\site-packages (from pandas) (2024.2)\n",
      "Requirement already satisfied: tzdata>=2022.7 in i:\\coding\\2024-ai4good-submission\\.venv\\lib\\site-packages (from pandas) (2024.2)\n",
      "Requirement already satisfied: decorator in i:\\coding\\2024-ai4good-submission\\.venv\\lib\\site-packages (from ipython>=7.23.1->ipykernel) (5.1.1)\n",
      "Requirement already satisfied: jedi>=0.16 in i:\\coding\\2024-ai4good-submission\\.venv\\lib\\site-packages (from ipython>=7.23.1->ipykernel) (0.19.1)\n",
      "Requirement already satisfied: prompt-toolkit<3.1.0,>=3.0.41 in i:\\coding\\2024-ai4good-submission\\.venv\\lib\\site-packages (from ipython>=7.23.1->ipykernel) (3.0.48)\n",
      "Requirement already satisfied: pygments>=2.4.0 in i:\\coding\\2024-ai4good-submission\\.venv\\lib\\site-packages (from ipython>=7.23.1->ipykernel) (2.18.0)\n",
      "Requirement already satisfied: stack-data in i:\\coding\\2024-ai4good-submission\\.venv\\lib\\site-packages (from ipython>=7.23.1->ipykernel) (0.6.3)\n",
      "Requirement already satisfied: colorama in i:\\coding\\2024-ai4good-submission\\.venv\\lib\\site-packages (from ipython>=7.23.1->ipykernel) (0.4.6)\n",
      "Requirement already satisfied: platformdirs>=2.5 in i:\\coding\\2024-ai4good-submission\\.venv\\lib\\site-packages (from jupyter-core!=5.0.*,>=4.12->ipykernel) (4.3.6)\n",
      "Requirement already satisfied: pywin32>=300 in i:\\coding\\2024-ai4good-submission\\.venv\\lib\\site-packages (from jupyter-core!=5.0.*,>=4.12->ipykernel) (306)\n",
      "Requirement already satisfied: six>=1.5 in i:\\coding\\2024-ai4good-submission\\.venv\\lib\\site-packages (from python-dateutil>=2.7->matplotlib) (1.16.0)\n",
      "Requirement already satisfied: parso<0.9.0,>=0.8.3 in i:\\coding\\2024-ai4good-submission\\.venv\\lib\\site-packages (from jedi>=0.16->ipython>=7.23.1->ipykernel) (0.8.4)\n",
      "Requirement already satisfied: wcwidth in i:\\coding\\2024-ai4good-submission\\.venv\\lib\\site-packages (from prompt-toolkit<3.1.0,>=3.0.41->ipython>=7.23.1->ipykernel) (0.2.13)\n",
      "Requirement already satisfied: executing>=1.2.0 in i:\\coding\\2024-ai4good-submission\\.venv\\lib\\site-packages (from stack-data->ipython>=7.23.1->ipykernel) (2.1.0)\n",
      "Requirement already satisfied: asttokens>=2.1.0 in i:\\coding\\2024-ai4good-submission\\.venv\\lib\\site-packages (from stack-data->ipython>=7.23.1->ipykernel) (2.4.1)\n",
      "Requirement already satisfied: pure-eval in i:\\coding\\2024-ai4good-submission\\.venv\\lib\\site-packages (from stack-data->ipython>=7.23.1->ipykernel) (0.2.3)\n",
      "Note: you may need to restart the kernel to use updated packages.\n"
     ]
    }
   ],
   "source": [
    "%pip install -U ipykernel matplotlib scikit-learn pandas numpy seaborn"
   ]
  },
  {
   "cell_type": "code",
   "execution_count": 195,
   "metadata": {},
   "outputs": [],
   "source": [
    "from pandas import DataFrame, Series\n",
    "import pandas as pd\n",
    "\n",
    "def Get_Data() -> DataFrame:\n",
    "    df: DataFrame = pd.read_csv(r\"I:\\Coding\\2024-Ai4Good-Submission\\Data\\RentalProperties.csv\")\n",
    "\n",
    "    return df\n",
    "\n",
    "def Clean_Data(df: DataFrame) -> DataFrame:\n",
    "    df = df[[\n",
    "        \"Book Section\",\n",
    "        \"Days on Market\",\n",
    "        \"Availability Date\"\n",
    "    ]]\n",
    "\n",
    "    df = df.dropna()\n",
    "\n",
    "    return df"
   ]
  },
  {
   "cell_type": "code",
   "execution_count": 196,
   "metadata": {},
   "outputs": [],
   "source": [
    "rawData: DataFrame = Get_Data()\n",
    "listingData: DataFrame = Clean_Data(Get_Data())"
   ]
  }
 ],
 "metadata": {
  "kernelspec": {
   "display_name": ".venv",
   "language": "python",
   "name": "python3"
  },
  "language_info": {
   "codemirror_mode": {
    "name": "ipython",
    "version": 3
   },
   "file_extension": ".py",
   "mimetype": "text/x-python",
   "name": "python",
   "nbconvert_exporter": "python",
   "pygments_lexer": "ipython3",
   "version": "3.12.6"
  }
 },
 "nbformat": 4,
 "nbformat_minor": 2
}
